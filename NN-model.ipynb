{
  "cells": [
    {
      "cell_type": "code",
      "execution_count": 1,
      "source": [
        "#importing keras\r\n",
        "from keras.preprocessing.text import Tokenizer\r\n",
        "from keras.preprocessing.sequence import pad_sequences\r\n",
        "from keras.models import Sequential\r\n",
        "from keras.layers import Activation, Dense, Dropout, Embedding, Flatten, Conv1D, MaxPooling1D, LSTM, Input, SpatialDropout1D\r\n",
        "from keras import utils\r\n",
        "from keras.callbacks import ReduceLROnPlateau, EarlyStopping"
      ],
      "outputs": [
        {
          "output_type": "stream",
          "name": "stderr",
          "text": [
            "Using TensorFlow backend.\n",
            "D:\\DHRUVIN\\Study\\Anaconda\\lib\\site-packages\\tensorflow\\python\\framework\\dtypes.py:516: FutureWarning: Passing (type, 1) or '1type' as a synonym of type is deprecated; in a future version of numpy, it will be understood as (type, (1,)) / '(1,)type'.\n",
            "  _np_qint8 = np.dtype([(\"qint8\", np.int8, 1)])\n",
            "D:\\DHRUVIN\\Study\\Anaconda\\lib\\site-packages\\tensorflow\\python\\framework\\dtypes.py:517: FutureWarning: Passing (type, 1) or '1type' as a synonym of type is deprecated; in a future version of numpy, it will be understood as (type, (1,)) / '(1,)type'.\n",
            "  _np_quint8 = np.dtype([(\"quint8\", np.uint8, 1)])\n",
            "D:\\DHRUVIN\\Study\\Anaconda\\lib\\site-packages\\tensorflow\\python\\framework\\dtypes.py:518: FutureWarning: Passing (type, 1) or '1type' as a synonym of type is deprecated; in a future version of numpy, it will be understood as (type, (1,)) / '(1,)type'.\n",
            "  _np_qint16 = np.dtype([(\"qint16\", np.int16, 1)])\n",
            "D:\\DHRUVIN\\Study\\Anaconda\\lib\\site-packages\\tensorflow\\python\\framework\\dtypes.py:519: FutureWarning: Passing (type, 1) or '1type' as a synonym of type is deprecated; in a future version of numpy, it will be understood as (type, (1,)) / '(1,)type'.\n",
            "  _np_quint16 = np.dtype([(\"quint16\", np.uint16, 1)])\n",
            "D:\\DHRUVIN\\Study\\Anaconda\\lib\\site-packages\\tensorflow\\python\\framework\\dtypes.py:520: FutureWarning: Passing (type, 1) or '1type' as a synonym of type is deprecated; in a future version of numpy, it will be understood as (type, (1,)) / '(1,)type'.\n",
            "  _np_qint32 = np.dtype([(\"qint32\", np.int32, 1)])\n",
            "D:\\DHRUVIN\\Study\\Anaconda\\lib\\site-packages\\tensorflow\\python\\framework\\dtypes.py:525: FutureWarning: Passing (type, 1) or '1type' as a synonym of type is deprecated; in a future version of numpy, it will be understood as (type, (1,)) / '(1,)type'.\n",
            "  np_resource = np.dtype([(\"resource\", np.ubyte, 1)])\n",
            "D:\\DHRUVIN\\Study\\Anaconda\\lib\\site-packages\\tensorboard\\compat\\tensorflow_stub\\dtypes.py:541: FutureWarning: Passing (type, 1) or '1type' as a synonym of type is deprecated; in a future version of numpy, it will be understood as (type, (1,)) / '(1,)type'.\n",
            "  _np_qint8 = np.dtype([(\"qint8\", np.int8, 1)])\n",
            "D:\\DHRUVIN\\Study\\Anaconda\\lib\\site-packages\\tensorboard\\compat\\tensorflow_stub\\dtypes.py:542: FutureWarning: Passing (type, 1) or '1type' as a synonym of type is deprecated; in a future version of numpy, it will be understood as (type, (1,)) / '(1,)type'.\n",
            "  _np_quint8 = np.dtype([(\"quint8\", np.uint8, 1)])\n",
            "D:\\DHRUVIN\\Study\\Anaconda\\lib\\site-packages\\tensorboard\\compat\\tensorflow_stub\\dtypes.py:543: FutureWarning: Passing (type, 1) or '1type' as a synonym of type is deprecated; in a future version of numpy, it will be understood as (type, (1,)) / '(1,)type'.\n",
            "  _np_qint16 = np.dtype([(\"qint16\", np.int16, 1)])\n",
            "D:\\DHRUVIN\\Study\\Anaconda\\lib\\site-packages\\tensorboard\\compat\\tensorflow_stub\\dtypes.py:544: FutureWarning: Passing (type, 1) or '1type' as a synonym of type is deprecated; in a future version of numpy, it will be understood as (type, (1,)) / '(1,)type'.\n",
            "  _np_quint16 = np.dtype([(\"quint16\", np.uint16, 1)])\n",
            "D:\\DHRUVIN\\Study\\Anaconda\\lib\\site-packages\\tensorboard\\compat\\tensorflow_stub\\dtypes.py:545: FutureWarning: Passing (type, 1) or '1type' as a synonym of type is deprecated; in a future version of numpy, it will be understood as (type, (1,)) / '(1,)type'.\n",
            "  _np_qint32 = np.dtype([(\"qint32\", np.int32, 1)])\n",
            "D:\\DHRUVIN\\Study\\Anaconda\\lib\\site-packages\\tensorboard\\compat\\tensorflow_stub\\dtypes.py:550: FutureWarning: Passing (type, 1) or '1type' as a synonym of type is deprecated; in a future version of numpy, it will be understood as (type, (1,)) / '(1,)type'.\n",
            "  np_resource = np.dtype([(\"resource\", np.ubyte, 1)])\n"
          ]
        }
      ],
      "metadata": {
        "trusted": true
      }
    },
    {
      "cell_type": "code",
      "execution_count": 2,
      "source": [
        "# DataFrame\r\n",
        "import pandas as pd\r\n",
        "# nltk\r\n",
        "import nltk\r\n",
        "from nltk.corpus import stopwords\r\n",
        "from  nltk.stem import SnowballStemmer\r\n",
        "#numpy\r\n",
        "import numpy as np\r\n",
        "#utility\r\n",
        "import re\r\n",
        "# Matplotlib\r\n",
        "%matplotlib inline\r\n",
        "from matplotlib import pyplot as plt"
      ],
      "outputs": [],
      "metadata": {
        "trusted": true
      }
    },
    {
      "cell_type": "code",
      "execution_count": 4,
      "source": [
        "# TEXT CLENAING\r\n",
        "TEXT_CLEANING_RE = \"@\\S+|https?:\\S+|http?:\\S|[^A-Za-z0-9]+\""
      ],
      "outputs": [],
      "metadata": {
        "trusted": true
      }
    },
    {
      "cell_type": "code",
      "execution_count": 5,
      "source": [
        "#Load Dataset\r\n",
        "df = pd.read_csv(\"./sentiment_data.csv\")"
      ],
      "outputs": [],
      "metadata": {
        "trusted": true
      }
    },
    {
      "cell_type": "code",
      "execution_count": 6,
      "source": [
        "vf = pd.read_csv(\"./Validation_data_competition.csv\")"
      ],
      "outputs": [],
      "metadata": {
        "trusted": true
      }
    },
    {
      "cell_type": "code",
      "execution_count": 7,
      "source": [
        "#Load Dataset\r\n",
        "tf = pd.read_csv(\"./testset-competition.csv\",)"
      ],
      "outputs": [],
      "metadata": {
        "scrolled": false,
        "trusted": true
      }
    },
    {
      "cell_type": "code",
      "execution_count": 8,
      "source": [
        "tokenizer = Tokenizer(num_words=None, split=' ')\r\n",
        "tokenizer.fit_on_texts(df['tweet_content'].values)\r\n",
        "x = tokenizer.texts_to_sequences(df['tweet_content'].values)\r\n",
        "x = pad_sequences(x, maxlen=20, padding='post')\r\n",
        "print(x[54])"
      ],
      "outputs": [
        {
          "output_type": "stream",
          "name": "stdout",
          "text": [
            "[   6 4324  367    5   92    8   79    0    0    0    0    0    0    0\n",
            "    0    0    0    0    0    0]\n"
          ]
        }
      ],
      "metadata": {
        "scrolled": true,
        "trusted": true
      }
    },
    {
      "cell_type": "code",
      "execution_count": 9,
      "source": [
        "y = tokenizer.texts_to_sequences(vf['tweet_content'].values)\r\n",
        "y = pad_sequences(y, maxlen=20, padding='post')\r\n",
        "print(y[3])"
      ],
      "outputs": [
        {
          "output_type": "stream",
          "name": "stdout",
          "text": [
            "[225  16 873 310 165 420 281   1   1   4   1 836   1  44   1 923   1   3\n",
            "   0   0]\n"
          ]
        }
      ],
      "metadata": {
        "trusted": true
      }
    },
    {
      "cell_type": "code",
      "execution_count": 10,
      "source": [
        "from sklearn.model_selection import train_test_split\r\n",
        "x_test = df.iloc[:,4:].values\r\n",
        "y_test=vf.iloc[:,3:].values"
      ],
      "outputs": [],
      "metadata": {
        "trusted": true
      }
    },
    {
      "cell_type": "code",
      "execution_count": 11,
      "source": [
        "batch_size = 128\r\n",
        "epochs = 21"
      ],
      "outputs": [],
      "metadata": {
        "trusted": true
      }
    },
    {
      "cell_type": "code",
      "execution_count": 12,
      "source": [
        "model = Sequential()\r\n",
        "model.add(Embedding(14645, 256))\r\n",
        "model.add(Dropout(0.3))\r\n",
        "model.add(LSTM(32, dropout=0.4, recurrent_dropout=0.1))\r\n",
        "model.add(Dropout(0.2))\r\n",
        "model.add(Dense(4, activation='sigmoid'))\r\n",
        "model.summary()"
      ],
      "outputs": [
        {
          "output_type": "stream",
          "name": "stdout",
          "text": [
            "Model: \"sequential_2\"\n",
            "_________________________________________________________________\n",
            "Layer (type)                 Output Shape              Param #   \n",
            "=================================================================\n",
            "embedding_2 (Embedding)      (None, None, 256)         3749120   \n",
            "_________________________________________________________________\n",
            "dropout_3 (Dropout)          (None, None, 256)         0         \n",
            "_________________________________________________________________\n",
            "lstm_2 (LSTM)                (None, 32)                36992     \n",
            "_________________________________________________________________\n",
            "dropout_4 (Dropout)          (None, 32)                0         \n",
            "_________________________________________________________________\n",
            "dense_2 (Dense)              (None, 4)                 132       \n",
            "=================================================================\n",
            "Total params: 3,786,244\n",
            "Trainable params: 3,786,244\n",
            "Non-trainable params: 0\n",
            "_________________________________________________________________\n"
          ]
        }
      ],
      "metadata": {
        "trusted": true
      }
    },
    {
      "cell_type": "code",
      "execution_count": 13,
      "source": [
        "model.compile(loss='binary_crossentropy',\r\n",
        "              optimizer=\"adam\",\r\n",
        "              metrics=['accuracy'])"
      ],
      "outputs": [
        {
          "output_type": "stream",
          "name": "stdout",
          "text": [
            "WARNING:tensorflow:From D:\\DHRUVIN\\Study\\Anaconda\\lib\\site-packages\\tensorflow\\python\\ops\\nn_impl.py:180: add_dispatch_support.<locals>.wrapper (from tensorflow.python.ops.array_ops) is deprecated and will be removed in a future version.\n",
            "Instructions for updating:\n",
            "Use tf.where in 2.0, which has the same broadcast rule as np.where\n"
          ]
        }
      ],
      "metadata": {
        "trusted": true
      }
    },
    {
      "cell_type": "code",
      "execution_count": 14,
      "source": [
        "history=model.fit(x, x_test,\r\n",
        "          batch_size=batch_size,\r\n",
        "          epochs=epochs,\r\n",
        "          verbose=1,\r\n",
        "          validation_data=(y, y_test))"
      ],
      "outputs": [
        {
          "output_type": "stream",
          "name": "stdout",
          "text": [
            "WARNING:tensorflow:From D:\\DHRUVIN\\Study\\Anaconda\\lib\\site-packages\\keras\\backend\\tensorflow_backend.py:422: The name tf.global_variables is deprecated. Please use tf.compat.v1.global_variables instead.\n",
            "\n",
            "Train on 9087 samples, validate on 2125 samples\n",
            "Epoch 1/21\n",
            "9087/9087 [==============================] - 6s 643us/step - loss: 0.4170 - accuracy: 0.8061 - val_loss: 0.2596 - val_accuracy: 0.9285\n",
            "Epoch 2/21\n",
            "9087/9087 [==============================] - 5s 571us/step - loss: 0.2046 - accuracy: 0.9407 - val_loss: 0.2012 - val_accuracy: 0.9393\n",
            "Epoch 3/21\n",
            "9087/9087 [==============================] - 5s 584us/step - loss: 0.1574 - accuracy: 0.9568 - val_loss: 0.1958 - val_accuracy: 0.9400\n",
            "Epoch 4/21\n",
            "9087/9087 [==============================] - 5s 573us/step - loss: 0.1246 - accuracy: 0.9672 - val_loss: 0.2127 - val_accuracy: 0.9328\n",
            "Epoch 5/21\n",
            "9087/9087 [==============================] - 5s 562us/step - loss: 0.1016 - accuracy: 0.9745 - val_loss: 0.2405 - val_accuracy: 0.9268\n",
            "Epoch 6/21\n",
            "9087/9087 [==============================] - 5s 572us/step - loss: 0.0850 - accuracy: 0.9780 - val_loss: 0.2403 - val_accuracy: 0.9287\n",
            "Epoch 7/21\n",
            "9087/9087 [==============================] - 5s 562us/step - loss: 0.0739 - accuracy: 0.9798 - val_loss: 0.2770 - val_accuracy: 0.9259\n",
            "Epoch 8/21\n",
            "9087/9087 [==============================] - 5s 591us/step - loss: 0.0624 - accuracy: 0.9815 - val_loss: 0.2941 - val_accuracy: 0.9200\n",
            "Epoch 9/21\n",
            "9087/9087 [==============================] - 5s 567us/step - loss: 0.0534 - accuracy: 0.9839 - val_loss: 0.3373 - val_accuracy: 0.9192\n",
            "Epoch 10/21\n",
            "9087/9087 [==============================] - 5s 565us/step - loss: 0.0460 - accuracy: 0.9851 - val_loss: 0.3559 - val_accuracy: 0.9088\n",
            "Epoch 11/21\n",
            "9087/9087 [==============================] - 6s 625us/step - loss: 0.0399 - accuracy: 0.9868 - val_loss: 0.3598 - val_accuracy: 0.9154\n",
            "Epoch 12/21\n",
            "9087/9087 [==============================] - 6s 626us/step - loss: 0.0364 - accuracy: 0.9877 - val_loss: 0.3743 - val_accuracy: 0.9138\n",
            "Epoch 13/21\n",
            "9087/9087 [==============================] - 6s 612us/step - loss: 0.0341 - accuracy: 0.9885 - val_loss: 0.3948 - val_accuracy: 0.9094\n",
            "Epoch 14/21\n",
            "9087/9087 [==============================] - 6s 610us/step - loss: 0.0308 - accuracy: 0.9896 - val_loss: 0.4141 - val_accuracy: 0.9039\n",
            "Epoch 15/21\n",
            "9087/9087 [==============================] - 6s 630us/step - loss: 0.0293 - accuracy: 0.9896 - val_loss: 0.3865 - val_accuracy: 0.9099\n",
            "Epoch 16/21\n",
            "9087/9087 [==============================] - 6s 615us/step - loss: 0.0269 - accuracy: 0.9898 - val_loss: 0.4053 - val_accuracy: 0.9053\n",
            "Epoch 17/21\n",
            "9087/9087 [==============================] - 6s 606us/step - loss: 0.0253 - accuracy: 0.9904 - val_loss: 0.4250 - val_accuracy: 0.9008\n",
            "Epoch 18/21\n",
            "9087/9087 [==============================] - 6s 629us/step - loss: 0.0250 - accuracy: 0.9903 - val_loss: 0.4652 - val_accuracy: 0.8999\n",
            "Epoch 19/21\n",
            "9087/9087 [==============================] - 6s 620us/step - loss: 0.0237 - accuracy: 0.9913 - val_loss: 0.4514 - val_accuracy: 0.9002\n",
            "Epoch 20/21\n",
            "9087/9087 [==============================] - 6s 615us/step - loss: 0.0214 - accuracy: 0.9929 - val_loss: 0.4863 - val_accuracy: 0.9024\n",
            "Epoch 21/21\n",
            "9087/9087 [==============================] - 6s 630us/step - loss: 0.0197 - accuracy: 0.9940 - val_loss: 0.4498 - val_accuracy: 0.9059\n"
          ]
        }
      ],
      "metadata": {
        "scrolled": true,
        "trusted": true
      }
    },
    {
      "cell_type": "code",
      "execution_count": 15,
      "source": [
        "print(history.history)"
      ],
      "outputs": [
        {
          "output_type": "stream",
          "name": "stdout",
          "text": [
            "{'val_loss': [0.2595773012708215, 0.20118638877307668, 0.19578848570935867, 0.21274821444118724, 0.24052438891635222, 0.24026860303037306, 0.2769815171396031, 0.2941140073046965, 0.3372656821643605, 0.35592328025312986, 0.35978317750201505, 0.374322747482973, 0.39480895141994254, 0.414079900895848, 0.38648342225130866, 0.4052690456755021, 0.4250000539667466, 0.4651813102048986, 0.451425702641992, 0.48630211107871113, 0.44983977603912356], 'val_accuracy': [0.9284706115722656, 0.9392940998077393, 0.9399999976158142, 0.9328235387802124, 0.9268235564231873, 0.9287058711051941, 0.9258823394775391, 0.9200000166893005, 0.919176459312439, 0.908823549747467, 0.9154117703437805, 0.9137647151947021, 0.9094117879867554, 0.9038823246955872, 0.9098823666572571, 0.9052941203117371, 0.9008235335350037, 0.8998823761940002, 0.9002352952957153, 0.9023529291152954, 0.9058823585510254], 'loss': [0.41701206299578303, 0.20457878136865715, 0.15740579471797247, 0.12461097818964632, 0.10164289118987939, 0.08502060968785104, 0.0739025816487816, 0.06236557246051475, 0.05343750159098224, 0.045999971461614865, 0.03985763473522943, 0.036399292288452824, 0.034091477978044384, 0.03078894124961705, 0.029295619067591358, 0.026859520896908486, 0.025313036625972608, 0.02503339805695317, 0.02369970961736153, 0.021368200582841272, 0.019663632411275667], 'accuracy': [0.80606914, 0.94065696, 0.95677894, 0.9672059, 0.974524, 0.97801805, 0.9797513, 0.98151207, 0.9838781, 0.9851436, 0.9867668, 0.9876747, 0.98850006, 0.98960054, 0.989628, 0.9897931, 0.99037087, 0.99034333, 0.99130625, 0.99287444, 0.9939749]}\n"
          ]
        }
      ],
      "metadata": {}
    },
    {
      "cell_type": "code",
      "execution_count": 16,
      "source": [
        "# Plot training & validation accuracy values\r\n",
        "plt.plot(history.history['accuracy'])\r\n",
        "plt.plot(history.history['val_accuracy'])\r\n",
        "plt.title('Model accuracy')\r\n",
        "plt.ylabel('Accuracy')\r\n",
        "plt.xlabel('Epoch')\r\n",
        "plt.legend(['Train', 'Test'], loc='upper left')\r\n",
        "plt.show()"
      ],
      "outputs": [
        {
          "output_type": "display_data",
          "data": {
            "image/png": "[encoded data removed]",
            "text/plain": [
              "<Figure size 432x288 with 1 Axes>"
            ]
          },
          "metadata": {
            "needs_background": "light"
          }
        }
      ],
      "metadata": {}
    },
    {
      "cell_type": "code",
      "execution_count": 17,
      "source": [
        "# Plot training & validation loss values\r\n",
        "plt.plot(history.history['loss'])\r\n",
        "plt.plot(history.history['val_loss'])\r\n",
        "plt.title('Model loss')\r\n",
        "plt.ylabel('Loss')\r\n",
        "plt.xlabel('Epoch')\r\n",
        "plt.legend(['Train', 'Test'], loc='upper left')\r\n",
        "plt.show()"
      ],
      "outputs": [
        {
          "output_type": "display_data",
          "data": {
            "image/png": "[encoded data removed]",
            "text/plain": [
              "<Figure size 432x288 with 1 Axes>"
            ]
          },
          "metadata": {
            "needs_background": "light"
          }
        }
      ],
      "metadata": {}
    },
    {
      "cell_type": "code",
      "execution_count": 18,
      "source": [
        "score= model.evaluate(y, y_test, verbose = 2)\r\n",
        "print(\"Loss: %.2f\" % score[0])\r\n",
        "print(\"Accuracy: %.2f\" % score[1])"
      ],
      "outputs": [
        {
          "output_type": "stream",
          "name": "stdout",
          "text": [
            "Loss: 0.45\n",
            "Accuracy: 0.91\n"
          ]
        }
      ],
      "metadata": {
        "trusted": true
      }
    },
    {
      "cell_type": "code",
      "execution_count": 19,
      "source": [
        "prediction = model.predict(x)"
      ],
      "outputs": [],
      "metadata": {
        "trusted": true
      }
    },
    {
      "cell_type": "code",
      "execution_count": 20,
      "source": [
        "print('Prediction value:', prediction[374])"
      ],
      "outputs": [
        {
          "output_type": "stream",
          "name": "stdout",
          "text": [
            "Prediction value: [0.9706758  0.24985087 0.7189391  0.09435079]\n"
          ]
        }
      ],
      "metadata": {
        "trusted": true
      }
    },
    {
      "cell_type": "code",
      "execution_count": 21,
      "source": [
        "z = tokenizer.texts_to_sequences(tf['tweet_content'].values)\r\n",
        "z = pad_sequences(z, maxlen=22, padding='post')"
      ],
      "outputs": [],
      "metadata": {
        "trusted": true
      }
    },
    {
      "cell_type": "code",
      "execution_count": 22,
      "source": [
        "pred=model.predict(z)\r\n",
        "print('Prediction value:', pred[420])"
      ],
      "outputs": [
        {
          "output_type": "stream",
          "name": "stdout",
          "text": [
            "Prediction value: [0.02004302 0.00454926 0.00107554 0.00327981]\n"
          ]
        }
      ],
      "metadata": {
        "trusted": true
      }
    },
    {
      "cell_type": "code",
      "execution_count": 23,
      "source": [
        "for i in range(len(pred)):\r\n",
        "    tf.at[i,'Harassment']=int(0)\r\n",
        "    tf.at[i,'IndirectH']=int(0)\r\n",
        "    tf.at[i,'PhysicalH']=int(0)\r\n",
        "    tf.at[i,'SexualH']=int(0)\r\n",
        "    if pred[i,0]>=0.4:\r\n",
        "        tf.at[i,'Harassment']=1\r\n",
        "        t=np.argmax(pred[i,1:])\r\n",
        "        if t==2:\r\n",
        "            tf.at[i,'SexualH']=int(1)\r\n",
        "        elif t==1:\r\n",
        "            tf.at[i,'PhysicalH']=int(1)\r\n",
        "        elif t==0:\r\n",
        "            tf.at[i,'IndirectH']=int(1)"
      ],
      "outputs": [],
      "metadata": {
        "trusted": true
      }
    },
    {
      "cell_type": "code",
      "execution_count": 24,
      "source": [
        "tf[420:431]"
      ],
      "outputs": [
        {
          "output_type": "execute_result",
          "data": {
            "text/html": [
              "<div>\n",
              "<style scoped>\n",
              "    .dataframe tbody tr th:only-of-type {\n",
              "        vertical-align: middle;\n",
              "    }\n",
              "\n",
              "    .dataframe tbody tr th {\n",
              "        vertical-align: top;\n",
              "    }\n",
              "\n",
              "    .dataframe thead th {\n",
              "        text-align: right;\n",
              "    }\n",
              "</style>\n",
              "<table border=\"1\" class=\"dataframe\">\n",
              "  <thead>\n",
              "    <tr style=\"text-align: right;\">\n",
              "      <th></th>\n",
              "      <th>tweet_content</th>\n",
              "      <th>Harassment</th>\n",
              "      <th>IndirectH</th>\n",
              "      <th>PhysicalH</th>\n",
              "      <th>SexualH</th>\n",
              "    </tr>\n",
              "  </thead>\n",
              "  <tbody>\n",
              "    <tr>\n",
              "      <th>420</th>\n",
              "      <td>naked girls fingering eachother beautiful girl...</td>\n",
              "      <td>0.0</td>\n",
              "      <td>0.0</td>\n",
              "      <td>0.0</td>\n",
              "      <td>0.0</td>\n",
              "    </tr>\n",
              "    <tr>\n",
              "      <th>421</th>\n",
              "      <td>naked girls vigina sexy swedish men pics</td>\n",
              "      <td>1.0</td>\n",
              "      <td>0.0</td>\n",
              "      <td>0.0</td>\n",
              "      <td>1.0</td>\n",
              "    </tr>\n",
              "    <tr>\n",
              "      <th>422</th>\n",
              "      <td>naked pillow fights nude girls in the farm</td>\n",
              "      <td>0.0</td>\n",
              "      <td>0.0</td>\n",
              "      <td>0.0</td>\n",
              "      <td>0.0</td>\n",
              "    </tr>\n",
              "    <tr>\n",
              "      <th>423</th>\n",
              "      <td>nanuqsaurus was a tyrannosaur from the late cr...</td>\n",
              "      <td>0.0</td>\n",
              "      <td>0.0</td>\n",
              "      <td>0.0</td>\n",
              "      <td>0.0</td>\n",
              "    </tr>\n",
              "    <tr>\n",
              "      <th>424</th>\n",
              "      <td>nasa commanded voyager to fire its thrusters f...</td>\n",
              "      <td>0.0</td>\n",
              "      <td>0.0</td>\n",
              "      <td>0.0</td>\n",
              "      <td>0.0</td>\n",
              "    </tr>\n",
              "    <tr>\n",
              "      <th>425</th>\n",
              "      <td>nature at its best in troms norway by tommy si...</td>\n",
              "      <td>0.0</td>\n",
              "      <td>0.0</td>\n",
              "      <td>0.0</td>\n",
              "      <td>0.0</td>\n",
              "    </tr>\n",
              "    <tr>\n",
              "      <th>426</th>\n",
              "      <td>nawww im the last person to criticize other pp...</td>\n",
              "      <td>0.0</td>\n",
              "      <td>0.0</td>\n",
              "      <td>0.0</td>\n",
              "      <td>0.0</td>\n",
              "    </tr>\n",
              "    <tr>\n",
              "      <th>427</th>\n",
              "      <td>nba young boy has a shitty ass personality his...</td>\n",
              "      <td>1.0</td>\n",
              "      <td>1.0</td>\n",
              "      <td>0.0</td>\n",
              "      <td>0.0</td>\n",
              "    </tr>\n",
              "    <tr>\n",
              "      <th>428</th>\n",
              "      <td>nba youngboy beat his gf ass blacked her eye a...</td>\n",
              "      <td>1.0</td>\n",
              "      <td>0.0</td>\n",
              "      <td>0.0</td>\n",
              "      <td>1.0</td>\n",
              "    </tr>\n",
              "    <tr>\n",
              "      <th>429</th>\n",
              "      <td>need a bitch who know algebra</td>\n",
              "      <td>1.0</td>\n",
              "      <td>0.0</td>\n",
              "      <td>0.0</td>\n",
              "      <td>1.0</td>\n",
              "    </tr>\n",
              "    <tr>\n",
              "      <th>430</th>\n",
              "      <td>neutral sex wet girls naked fucked while lap d...</td>\n",
              "      <td>1.0</td>\n",
              "      <td>0.0</td>\n",
              "      <td>0.0</td>\n",
              "      <td>1.0</td>\n",
              "    </tr>\n",
              "  </tbody>\n",
              "</table>\n",
              "</div>"
            ],
            "text/plain": [
              "                                         tweet_content  Harassment  IndirectH  \\\n",
              "420  naked girls fingering eachother beautiful girl...         0.0        0.0   \n",
              "421           naked girls vigina sexy swedish men pics         1.0        0.0   \n",
              "422         naked pillow fights nude girls in the farm         0.0        0.0   \n",
              "423  nanuqsaurus was a tyrannosaur from the late cr...         0.0        0.0   \n",
              "424  nasa commanded voyager to fire its thrusters f...         0.0        0.0   \n",
              "425  nature at its best in troms norway by tommy si...         0.0        0.0   \n",
              "426  nawww im the last person to criticize other pp...         0.0        0.0   \n",
              "427  nba young boy has a shitty ass personality his...         1.0        1.0   \n",
              "428  nba youngboy beat his gf ass blacked her eye a...         1.0        0.0   \n",
              "429                      need a bitch who know algebra         1.0        0.0   \n",
              "430  neutral sex wet girls naked fucked while lap d...         1.0        0.0   \n",
              "\n",
              "     PhysicalH  SexualH  \n",
              "420        0.0      0.0  \n",
              "421        0.0      1.0  \n",
              "422        0.0      0.0  \n",
              "423        0.0      0.0  \n",
              "424        0.0      0.0  \n",
              "425        0.0      0.0  \n",
              "426        0.0      0.0  \n",
              "427        0.0      0.0  \n",
              "428        0.0      1.0  \n",
              "429        0.0      1.0  \n",
              "430        0.0      1.0  "
            ]
          },
          "metadata": {},
          "execution_count": 24
        }
      ],
      "metadata": {
        "trusted": true
      }
    },
    {
      "cell_type": "code",
      "execution_count": 25,
      "source": [
        "model.save('./model.h5')"
      ],
      "outputs": [],
      "metadata": {
        "trusted": true
      }
    },
    {
      "cell_type": "code",
      "execution_count": 26,
      "source": [
        "tf.to_csv('./testset-competition-result.csv')"
      ],
      "outputs": [],
      "metadata": {
        "trusted": true
      }
    },
    {
      "cell_type": "code",
      "execution_count": 27,
      "source": [
        "from keras.utils import plot_model"
      ],
      "outputs": [],
      "metadata": {
        "trusted": true
      }
    },
    {
      "cell_type": "code",
      "execution_count": 28,
      "source": [
        "plot_model(model, to_file='model.png')"
      ],
      "outputs": [
        {
          "output_type": "error",
          "ename": "ImportError",
          "evalue": "Failed to import `pydot`. Please install `pydot`. For example with `pip install pydot`.",
          "traceback": [
            "\u001b[1;31m---------------------------------------------------------------------------\u001b[0m",
            "\u001b[1;31mImportError\u001b[0m                               Traceback (most recent call last)",
            "\u001b[1;32m<ipython-input-28-b950b8cba428>\u001b[0m in \u001b[0;36m<module>\u001b[1;34m\u001b[0m\n\u001b[1;32m----> 1\u001b[1;33m \u001b[0mplot_model\u001b[0m\u001b[1;33m(\u001b[0m\u001b[0mmodel\u001b[0m\u001b[1;33m,\u001b[0m \u001b[0mto_file\u001b[0m\u001b[1;33m=\u001b[0m\u001b[1;34m'model.png'\u001b[0m\u001b[1;33m)\u001b[0m\u001b[1;33m\u001b[0m\u001b[1;33m\u001b[0m\u001b[0m\n\u001b[0m",
            "\u001b[1;32mD:\\DHRUVIN\\Study\\Anaconda\\lib\\site-packages\\keras\\utils\\vis_utils.py\u001b[0m in \u001b[0;36mplot_model\u001b[1;34m(model, to_file, show_shapes, show_layer_names, rankdir, expand_nested, dpi)\u001b[0m\n\u001b[0;32m    238\u001b[0m     \"\"\"\n\u001b[0;32m    239\u001b[0m     dot = model_to_dot(model, show_shapes, show_layer_names, rankdir,\n\u001b[1;32m--> 240\u001b[1;33m                        expand_nested, dpi)\n\u001b[0m\u001b[0;32m    241\u001b[0m     \u001b[0m_\u001b[0m\u001b[1;33m,\u001b[0m \u001b[0mextension\u001b[0m \u001b[1;33m=\u001b[0m \u001b[0mos\u001b[0m\u001b[1;33m.\u001b[0m\u001b[0mpath\u001b[0m\u001b[1;33m.\u001b[0m\u001b[0msplitext\u001b[0m\u001b[1;33m(\u001b[0m\u001b[0mto_file\u001b[0m\u001b[1;33m)\u001b[0m\u001b[1;33m\u001b[0m\u001b[1;33m\u001b[0m\u001b[0m\n\u001b[0;32m    242\u001b[0m     \u001b[1;32mif\u001b[0m \u001b[1;32mnot\u001b[0m \u001b[0mextension\u001b[0m\u001b[1;33m:\u001b[0m\u001b[1;33m\u001b[0m\u001b[1;33m\u001b[0m\u001b[0m\n",
            "\u001b[1;32mD:\\DHRUVIN\\Study\\Anaconda\\lib\\site-packages\\keras\\utils\\vis_utils.py\u001b[0m in \u001b[0;36mmodel_to_dot\u001b[1;34m(model, show_shapes, show_layer_names, rankdir, expand_nested, dpi, subgraph)\u001b[0m\n\u001b[0;32m     77\u001b[0m     \u001b[1;32mfrom\u001b[0m \u001b[1;33m.\u001b[0m\u001b[1;33m.\u001b[0m\u001b[0mmodels\u001b[0m \u001b[1;32mimport\u001b[0m \u001b[0mSequential\u001b[0m\u001b[1;33m\u001b[0m\u001b[1;33m\u001b[0m\u001b[0m\n\u001b[0;32m     78\u001b[0m \u001b[1;33m\u001b[0m\u001b[0m\n\u001b[1;32m---> 79\u001b[1;33m     \u001b[0m_check_pydot\u001b[0m\u001b[1;33m(\u001b[0m\u001b[1;33m)\u001b[0m\u001b[1;33m\u001b[0m\u001b[1;33m\u001b[0m\u001b[0m\n\u001b[0m\u001b[0;32m     80\u001b[0m     \u001b[1;32mif\u001b[0m \u001b[0msubgraph\u001b[0m\u001b[1;33m:\u001b[0m\u001b[1;33m\u001b[0m\u001b[1;33m\u001b[0m\u001b[0m\n\u001b[0;32m     81\u001b[0m         \u001b[0mdot\u001b[0m \u001b[1;33m=\u001b[0m \u001b[0mpydot\u001b[0m\u001b[1;33m.\u001b[0m\u001b[0mCluster\u001b[0m\u001b[1;33m(\u001b[0m\u001b[0mstyle\u001b[0m\u001b[1;33m=\u001b[0m\u001b[1;34m'dashed'\u001b[0m\u001b[1;33m,\u001b[0m \u001b[0mgraph_name\u001b[0m\u001b[1;33m=\u001b[0m\u001b[0mmodel\u001b[0m\u001b[1;33m.\u001b[0m\u001b[0mname\u001b[0m\u001b[1;33m)\u001b[0m\u001b[1;33m\u001b[0m\u001b[1;33m\u001b[0m\u001b[0m\n",
            "\u001b[1;32mD:\\DHRUVIN\\Study\\Anaconda\\lib\\site-packages\\keras\\utils\\vis_utils.py\u001b[0m in \u001b[0;36m_check_pydot\u001b[1;34m()\u001b[0m\n\u001b[0;32m     20\u001b[0m     \u001b[1;32mif\u001b[0m \u001b[0mpydot\u001b[0m \u001b[1;32mis\u001b[0m \u001b[1;32mNone\u001b[0m\u001b[1;33m:\u001b[0m\u001b[1;33m\u001b[0m\u001b[1;33m\u001b[0m\u001b[0m\n\u001b[0;32m     21\u001b[0m         raise ImportError(\n\u001b[1;32m---> 22\u001b[1;33m             \u001b[1;34m'Failed to import `pydot`. '\u001b[0m\u001b[1;33m\u001b[0m\u001b[1;33m\u001b[0m\u001b[0m\n\u001b[0m\u001b[0;32m     23\u001b[0m             \u001b[1;34m'Please install `pydot`. '\u001b[0m\u001b[1;33m\u001b[0m\u001b[1;33m\u001b[0m\u001b[0m\n\u001b[0;32m     24\u001b[0m             'For example with `pip install pydot`.')\n",
            "\u001b[1;31mImportError\u001b[0m: Failed to import `pydot`. Please install `pydot`. For example with `pip install pydot`."
          ]
        }
      ],
      "metadata": {
        "trusted": true
      }
    },
    {
      "cell_type": "code",
      "execution_count": null,
      "source": [],
      "outputs": [],
      "metadata": {}
    }
  ],
  "metadata": {
    "interpreter": {
      "hash": "77fb83d1e55c12a75deecc2d67094582f9f4c823babed5edbdf4c3c2b849a17a"
    },
    "kernelspec": {
      "name": "python3",
      "display_name": "Python 3.7.8 64-bit (conda)"
    },
    "language_info": {
      "codemirror_mode": {
        "name": "ipython",
        "version": 3
      },
      "file_extension": ".py",
      "mimetype": "text/x-python",
      "name": "python",
      "nbconvert_exporter": "python",
      "pygments_lexer": "ipython3",
      "version": "3.7.8"
    }
  },
  "nbformat": 4,
  "nbformat_minor": 2
}