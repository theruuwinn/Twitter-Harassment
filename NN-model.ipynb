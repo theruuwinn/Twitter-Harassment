{
  "nbformat": 4,
  "nbformat_minor": 2,
  "metadata": {
    "kernelspec": {
      "name": "python3",
      "display_name": "Python 3.7.7 64-bit ('math_env': conda)"
    },
    "language_info": {
      "mimetype": "text/x-python",
      "nbconvert_exporter": "python",
      "name": "python",
      "pygments_lexer": "ipython3",
      "version": "3.7.7",
      "file_extension": ".py",
      "codemirror_mode": {
        "version": 3,
        "name": "ipython"
      }
    },
    "interpreter": {
      "hash": "2747b4bd68193098216e7b136c43d897392c75025fccbd04c13c707cb8fecbe3"
    },
    "colab": {
      "name": "NN-model.ipynb",
      "provenance": [],
      "collapsed_sections": []
    },
    "accelerator": "GPU"
  },
  "cells": [
    {
      "cell_type": "code",
      "execution_count": 1,
      "source": [
        "#importing keras\r\n",
        "from keras.preprocessing.text import Tokenizer\r\n",
        "from keras.preprocessing.sequence import pad_sequences\r\n",
        "from keras.models import Sequential\r\n",
        "from keras.layers import Activation, Dense, Dropout, Embedding, Flatten, Conv1D, MaxPooling1D, LSTM, Input, SpatialDropout1D\r\n",
        "from keras import utils\r\n",
        "from keras.callbacks import ReduceLROnPlateau, EarlyStopping"
      ],
      "outputs": [
        {
          "output_type": "stream",
          "name": "stderr",
          "text": [
            "Using TensorFlow backend.\n"
          ]
        }
      ],
      "metadata": {
        "trusted": true,
        "id": "H1eIGW2kOIom"
      }
    },
    {
      "cell_type": "code",
      "execution_count": 2,
      "source": [
        "# DataFrame\r\n",
        "import pandas as pd\r\n",
        "# nltk\r\n",
        "import nltk\r\n",
        "from nltk.corpus import stopwords\r\n",
        "from  nltk.stem import SnowballStemmer\r\n",
        "#numpy\r\n",
        "import numpy as np\r\n",
        "#utility\r\n",
        "import re\r\n",
        "# Matplotlib\r\n",
        "%matplotlib inline\r\n",
        "from matplotlib import pyplot as plt\r\n",
        "# sklearn\r\n",
        "from sklearn.model_selection import train_test_split"
      ],
      "outputs": [],
      "metadata": {
        "trusted": true,
        "id": "Y9IOzVQbOIow"
      }
    },
    {
      "cell_type": "code",
      "execution_count": 3,
      "source": [
        "# TEXT CLENAING\r\n",
        "TEXT_CLEANING_RE = \"@\\S+|https?:\\S+|http?:\\S|[^A-Za-z0-9]+\""
      ],
      "outputs": [],
      "metadata": {
        "trusted": true,
        "id": "AOjimoi7OIoy"
      }
    },
    {
      "cell_type": "code",
      "execution_count": 4,
      "source": [
        "#Load Dataset\r\n",
        "df = pd.read_csv(\"./sentiment_data.csv\")"
      ],
      "outputs": [],
      "metadata": {
        "trusted": true,
        "id": "Qj67yqvcOIo0"
      }
    },
    {
      "cell_type": "code",
      "execution_count": 5,
      "source": [
        "df_text_genre=df[['tweet_content','harassment', 'indirecth','physicalh','sexualh']]"
      ],
      "outputs": [],
      "metadata": {
        "id": "ncjTlcZ5xayG"
      }
    },
    {
      "cell_type": "code",
      "execution_count": 6,
      "source": [
        "train, test = train_test_split(df_text_genre, test_size=0.2, random_state=42, shuffle=True)"
      ],
      "outputs": [],
      "metadata": {
        "id": "hRqeOAfsxVN4"
      }
    },
    {
      "cell_type": "code",
      "execution_count": 7,
      "source": [
        "#Load Dataset\r\n",
        "tf = pd.read_csv(\"./testset-competition.csv\",)"
      ],
      "outputs": [],
      "metadata": {
        "trusted": true,
        "scrolled": false,
        "id": "UgfLcBRNOIo2"
      }
    },
    {
      "cell_type": "code",
      "execution_count": 8,
      "source": [
        "print(df_text_genre)"
      ],
      "outputs": [
        {
          "output_type": "stream",
          "name": "stdout",
          "text": [
            "                                          tweet_content  harassment  \\\n",
            "0     concurso porno japon go girl nude nylon stock ...           1   \n",
            "1     ava lauren cheat deep throat syndrom porn extr...           1   \n",
            "2     watch old classic movi pandora fli dutchman av...           0   \n",
            "3     memesyndrom terribl trend sassi x89 co yqpungwhpj           0   \n",
            "4     youwantsumfuck ava mfc thought pregnanc announ...           1   \n",
            "...                                                 ...         ...   \n",
            "9082  tommygrimaldi sexyarmpit happen night well eve...           0   \n",
            "9083  gp homegirl travel drive weekend th x89 co jwa...           0   \n",
            "9084  lfceric cheat cousin excus want prove marri ki...           0   \n",
            "9085  kokomothegreat slut alway slut take girl ghett...           1   \n",
            "9086  italian german porno unwant oil manga x89 czec...           1   \n",
            "\n",
            "      indirecth  physicalh  sexualh  \n",
            "0             0          0        1  \n",
            "1             0          0        1  \n",
            "2             0          0        0  \n",
            "3             0          0        0  \n",
            "4             0          0        1  \n",
            "...         ...        ...      ...  \n",
            "9082          0          0        0  \n",
            "9083          0          0        0  \n",
            "9084          0          0        0  \n",
            "9085          0          0        1  \n",
            "9086          0          0        1  \n",
            "\n",
            "[9087 rows x 5 columns]\n"
          ]
        }
      ],
      "metadata": {
        "colab": {
          "base_uri": "https://localhost:8080/"
        },
        "id": "L86blptY9iF4",
        "outputId": "2eeb7d69-f24e-4f51-85d1-8b15eff344a7"
      }
    },
    {
      "cell_type": "code",
      "execution_count": 9,
      "source": [
        "tokenizer = Tokenizer(num_words=None, split=' ')\r\n",
        "tokenizer.fit_on_texts(train['tweet_content'].values)\r\n",
        "x = tokenizer.texts_to_sequences(train['tweet_content'].values)\r\n",
        "x = pad_sequences(x, maxlen=20, padding='post')\r\n",
        "print(x[54])"
      ],
      "outputs": [
        {
          "output_type": "stream",
          "name": "stdout",
          "text": [
            "[  63 3721 3722  179    8    5  102  166   33 1646   99   33   33  927\n",
            "   98 2858    0    0    0    0]\n"
          ]
        }
      ],
      "metadata": {
        "trusted": true,
        "scrolled": true,
        "colab": {
          "base_uri": "https://localhost:8080/"
        },
        "id": "FZ74x5mMOIo3",
        "outputId": "c05dc840-35b3-4cc8-dba5-6e7e0ecd85dc"
      }
    },
    {
      "cell_type": "code",
      "execution_count": 10,
      "source": [
        "y = tokenizer.texts_to_sequences(test['tweet_content'].values)\r\n",
        "y = pad_sequences(y, maxlen=20, padding='post')\r\n",
        "print(y[3])"
      ],
      "outputs": [
        {
          "output_type": "stream",
          "name": "stdout",
          "text": [
            "[10591 10590    38  1678  1213  1322    32   504   179   198     2   595\n",
            "     5    79     0     0     0     0     0     0]\n"
          ]
        }
      ],
      "metadata": {
        "trusted": true,
        "colab": {
          "base_uri": "https://localhost:8080/"
        },
        "id": "0nkPKVsqOIo5",
        "outputId": "267e0a82-77fc-4807-89ad-baca9c91835b"
      }
    },
    {
      "cell_type": "code",
      "execution_count": 11,
      "source": [
        "from sklearn.model_selection import train_test_split\r\n",
        "x_test = train.iloc[:,1:].values\r\n",
        "y_test=test.iloc[:,1:].values"
      ],
      "outputs": [],
      "metadata": {
        "trusted": true,
        "id": "6Dla_dmpOIo7"
      }
    },
    {
      "cell_type": "code",
      "execution_count": 12,
      "source": [
        "print(x_test)"
      ],
      "outputs": [
        {
          "output_type": "stream",
          "name": "stdout",
          "text": [
            "[[1 0 0 1]\n",
            " [1 0 0 1]\n",
            " [0 0 0 0]\n",
            " ...\n",
            " [0 0 0 0]\n",
            " [0 0 0 0]\n",
            " [1 0 0 1]]\n"
          ]
        }
      ],
      "metadata": {
        "colab": {
          "base_uri": "https://localhost:8080/"
        },
        "id": "cJHiuXGl0T7C",
        "outputId": "d57c8cbd-c040-4bee-83df-0d5aab5b54df"
      }
    },
    {
      "cell_type": "code",
      "execution_count": 13,
      "source": [
        "batch_size =128\r\n",
        "epochs = 10"
      ],
      "outputs": [],
      "metadata": {
        "trusted": true,
        "id": "ueVFHNJ9OIo9"
      }
    },
    {
      "cell_type": "code",
      "execution_count": 14,
      "source": [
        "model = Sequential()\r\n",
        "model.add(Embedding(14645, 256))\r\n",
        "model.add(Dropout(0.4))\r\n",
        "model.add(LSTM(32, dropout=0.4, recurrent_dropout=0.1))\r\n",
        "model.add(Dense(4, activation='sigmoid'))\r\n",
        "model.summary()"
      ],
      "outputs": [
        {
          "output_type": "stream",
          "name": "stdout",
          "text": [
            "Model: \"sequential_1\"\n",
            "_________________________________________________________________\n",
            "Layer (type)                 Output Shape              Param #   \n",
            "=================================================================\n",
            "embedding_1 (Embedding)      (None, None, 256)         3749120   \n",
            "_________________________________________________________________\n",
            "dropout_1 (Dropout)          (None, None, 256)         0         \n",
            "_________________________________________________________________\n",
            "lstm_1 (LSTM)                (None, 32)                36992     \n",
            "_________________________________________________________________\n",
            "dense_1 (Dense)              (None, 4)                 132       \n",
            "=================================================================\n",
            "Total params: 3,786,244\n",
            "Trainable params: 3,786,244\n",
            "Non-trainable params: 0\n",
            "_________________________________________________________________\n"
          ]
        }
      ],
      "metadata": {
        "trusted": true,
        "colab": {
          "base_uri": "https://localhost:8080/"
        },
        "id": "BXtsZCSbOIo-",
        "outputId": "5ad075cf-a187-41d0-ae85-f53cf298a117"
      }
    },
    {
      "cell_type": "code",
      "execution_count": 15,
      "source": [
        "model.compile(loss='binary_crossentropy',\r\n",
        "              optimizer=\"adam\",\r\n",
        "              metrics=['accuracy'])"
      ],
      "outputs": [],
      "metadata": {
        "trusted": true,
        "id": "dunWIwlIOIo_"
      }
    },
    {
      "cell_type": "code",
      "execution_count": 16,
      "source": [
        "history=model.fit(x, x_test,\r\n",
        "          batch_size=batch_size,\r\n",
        "          epochs=epochs,\r\n",
        "          verbose=1,\r\n",
        "          validation_data=(y, y_test))"
      ],
      "outputs": [
        {
          "output_type": "stream",
          "name": "stderr",
          "text": [
            "C:\\Users\\Admin\\anaconda3\\envs\\math_env\\lib\\site-packages\\tensorflow_core\\python\\framework\\indexed_slices.py:433: UserWarning: Converting sparse IndexedSlices to a dense Tensor of unknown shape. This may consume a large amount of memory.\n",
            "  \"Converting sparse IndexedSlices to a dense Tensor of unknown shape. \"\n"
          ]
        },
        {
          "output_type": "stream",
          "name": "stdout",
          "text": [
            "Train on 7269 samples, validate on 1818 samples\n",
            "Epoch 1/10\n",
            "7269/7269 [==============================] - 6s 837us/step - loss: 0.4585 - accuracy: 0.7801 - val_loss: 0.3625 - val_accuracy: 0.7950\n",
            "Epoch 2/10\n",
            "7269/7269 [==============================] - 4s 526us/step - loss: 0.2522 - accuracy: 0.9152 - val_loss: 0.2022 - val_accuracy: 0.9373\n",
            "Epoch 3/10\n",
            "7269/7269 [==============================] - 4s 527us/step - loss: 0.1710 - accuracy: 0.9512 - val_loss: 0.1841 - val_accuracy: 0.9424\n",
            "Epoch 4/10\n",
            "7269/7269 [==============================] - 4s 519us/step - loss: 0.1411 - accuracy: 0.9619 - val_loss: 0.1818 - val_accuracy: 0.9450\n",
            "Epoch 5/10\n",
            "7269/7269 [==============================] - 4s 486us/step - loss: 0.1166 - accuracy: 0.9686 - val_loss: 0.1794 - val_accuracy: 0.9438\n",
            "Epoch 6/10\n",
            "7269/7269 [==============================] - 4s 486us/step - loss: 0.0999 - accuracy: 0.9738 - val_loss: 0.1775 - val_accuracy: 0.9451\n",
            "Epoch 7/10\n",
            "7269/7269 [==============================] - 4s 488us/step - loss: 0.0857 - accuracy: 0.9772 - val_loss: 0.1770 - val_accuracy: 0.9466\n",
            "Epoch 8/10\n",
            "7269/7269 [==============================] - 3s 475us/step - loss: 0.0762 - accuracy: 0.9792 - val_loss: 0.1824 - val_accuracy: 0.9486\n",
            "Epoch 9/10\n",
            "7269/7269 [==============================] - 4s 489us/step - loss: 0.0659 - accuracy: 0.9821 - val_loss: 0.1877 - val_accuracy: 0.9443\n",
            "Epoch 10/10\n",
            "7269/7269 [==============================] - 4s 483us/step - loss: 0.0555 - accuracy: 0.9836 - val_loss: 0.1863 - val_accuracy: 0.9436\n"
          ]
        }
      ],
      "metadata": {
        "trusted": true,
        "scrolled": true,
        "colab": {
          "base_uri": "https://localhost:8080/"
        },
        "id": "ZSSfb769OIo_",
        "outputId": "7a99e1bf-3130-4b35-ccda-4128f709b15c"
      }
    },
    {
      "cell_type": "code",
      "execution_count": 17,
      "source": [
        "print(history.history)"
      ],
      "outputs": [
        {
          "output_type": "stream",
          "name": "stdout",
          "text": [
            "{'val_loss': [0.3625054960728216, 0.20224404631733764, 0.18409789228203274, 0.18184298285097703, 0.17944599727396132, 0.17749091000905787, 0.1769899143801533, 0.18244619382293312, 0.18768846816552354, 0.186254950197223], 'val_accuracy': [0.794966995716095, 0.9372937083244324, 0.942381739616394, 0.9449945092201233, 0.9437568783760071, 0.9451320171356201, 0.94664466381073, 0.9485698342323303, 0.9443069100379944, 0.9436193704605103], 'loss': [0.45849845736238976, 0.2521936287515379, 0.17096106245783735, 0.1411409566525105, 0.1165862800746906, 0.09986314342637423, 0.08572675628221942, 0.07616948160578746, 0.06592576755837276, 0.05552767225282239], 'accuracy': [0.78009355, 0.91522217, 0.95119685, 0.9618586, 0.96863395, 0.9737584, 0.9771633, 0.9792268, 0.9821158, 0.9836291]}\n"
          ]
        }
      ],
      "metadata": {
        "colab": {
          "base_uri": "https://localhost:8080/"
        },
        "id": "DOrH15UPOIpA",
        "outputId": "c74a1f74-cd5c-4d66-cfc5-74e4e3022ec4"
      }
    },
    {
      "cell_type": "code",
      "execution_count": 18,
      "source": [
        "# Plot training & validation accuracy values\r\n",
        "plt.plot(history.history['accuracy'])\r\n",
        "plt.plot(history.history['val_accuracy'])\r\n",
        "plt.title('Model accuracy')\r\n",
        "plt.ylabel('Accuracy')\r\n",
        "plt.xlabel('Epoch')\r\n",
        "plt.legend(['Train', 'Test'], loc='upper left')\r\n",
        "plt.show()"
      ],
      "outputs": [
        {
          "output_type": "display_data",
          "data": {
            "image/png": "[encoded data removed]",
            "text/plain": [
              "<Figure size 432x288 with 1 Axes>"
            ]
          },
          "metadata": {
            "needs_background": "light"
          }
        }
      ],
      "metadata": {
        "colab": {
          "base_uri": "https://localhost:8080/",
          "height": 295
        },
        "id": "HH0-d70lOIpC",
        "outputId": "d02315e2-d875-4b62-e231-866007cb6a4d"
      }
    },
    {
      "cell_type": "code",
      "execution_count": 19,
      "source": [
        "# Plot training & validation loss values\r\n",
        "plt.plot(history.history['loss'])\r\n",
        "plt.plot(history.history['val_loss'])\r\n",
        "plt.title('Model loss')\r\n",
        "plt.ylabel('Loss')\r\n",
        "plt.xlabel('Epoch')\r\n",
        "plt.legend(['Train', 'Test'], loc='upper left')\r\n",
        "plt.show()"
      ],
      "outputs": [
        {
          "output_type": "display_data",
          "data": {
            "image/png": "[encoded data removed]",
            "text/plain": [
              "<Figure size 432x288 with 1 Axes>"
            ]
          },
          "metadata": {
            "needs_background": "light"
          }
        }
      ],
      "metadata": {
        "colab": {
          "base_uri": "https://localhost:8080/",
          "height": 295
        },
        "id": "1Bh7B9q4OIpD",
        "outputId": "bb57cfde-37e0-4352-a4bc-7619c7d960cc"
      }
    },
    {
      "cell_type": "code",
      "execution_count": 20,
      "source": [
        "score= model.evaluate(y, y_test, verbose = 2)\r\n",
        "print(\"Loss: %.2f\" % score[0])\r\n",
        "print(\"Accuracy: %.2f\" % score[1])"
      ],
      "outputs": [
        {
          "output_type": "stream",
          "name": "stdout",
          "text": [
            "Loss: 0.19\n",
            "Accuracy: 0.94\n"
          ]
        }
      ],
      "metadata": {
        "trusted": true,
        "colab": {
          "base_uri": "https://localhost:8080/"
        },
        "id": "uhtGpw2mOIpE",
        "outputId": "13da99b2-dcf0-43d7-a320-87f8f8b2777d"
      }
    },
    {
      "cell_type": "code",
      "execution_count": 21,
      "source": [
        "prediction = model.predict(x)"
      ],
      "outputs": [],
      "metadata": {
        "trusted": true,
        "id": "2HOu_1O0OIpF"
      }
    },
    {
      "cell_type": "code",
      "execution_count": 22,
      "source": [
        "print('Prediction value:', prediction[374])"
      ],
      "outputs": [
        {
          "output_type": "stream",
          "name": "stdout",
          "text": [
            "Prediction value: [0.99492705 0.00333451 0.00561992 0.99062073]\n"
          ]
        }
      ],
      "metadata": {
        "trusted": true,
        "colab": {
          "base_uri": "https://localhost:8080/"
        },
        "id": "oedf3QgPOIpF",
        "outputId": "dddad3cf-bd3b-4be0-9120-57724e8e108f"
      }
    },
    {
      "cell_type": "code",
      "execution_count": 23,
      "source": [
        "z = tokenizer.texts_to_sequences(tf['tweet_content'].values)\r\n",
        "z = pad_sequences(z, maxlen=22, padding='post')"
      ],
      "outputs": [],
      "metadata": {
        "trusted": true,
        "id": "D3JzcdvgOIpG"
      }
    },
    {
      "cell_type": "code",
      "execution_count": 24,
      "source": [
        "pred=model.predict(z)\r\n",
        "print('Prediction value:', pred[420])"
      ],
      "outputs": [
        {
          "output_type": "stream",
          "name": "stdout",
          "text": [
            "Prediction value: [0.5539359  0.25558516 0.3437753  0.0916627 ]\n"
          ]
        }
      ],
      "metadata": {
        "trusted": true,
        "colab": {
          "base_uri": "https://localhost:8080/"
        },
        "id": "_9Nrjw2oOIpH",
        "outputId": "e835e9b7-10bb-41d0-fd6a-0dc74ec73fba"
      }
    },
    {
      "cell_type": "code",
      "execution_count": 25,
      "source": [
        "for i in range(len(pred)):\r\n",
        "    tf.at[i,'Harassment']=int(0)\r\n",
        "    tf.at[i,'IndirectH']=int(0)\r\n",
        "    tf.at[i,'PhysicalH']=int(0)\r\n",
        "    tf.at[i,'SexualH']=int(0)\r\n",
        "    if pred[i,0]>=0.4:\r\n",
        "        tf.at[i,'Harassment']=1\r\n",
        "        t=np.argmax(pred[i,1:])\r\n",
        "        if t==2:\r\n",
        "            tf.at[i,'SexualH']=int(1)\r\n",
        "        elif t==1:\r\n",
        "            tf.at[i,'PhysicalH']=int(1)\r\n",
        "        elif t==0:\r\n",
        "            tf.at[i,'IndirectH']=int(1)"
      ],
      "outputs": [],
      "metadata": {
        "trusted": true,
        "id": "O6G0YuvHOIpI"
      }
    },
    {
      "cell_type": "code",
      "execution_count": 26,
      "source": [
        "tf[420:431]"
      ],
      "outputs": [
        {
          "output_type": "execute_result",
          "data": {
            "text/html": [
              "<div>\n",
              "<style scoped>\n",
              "    .dataframe tbody tr th:only-of-type {\n",
              "        vertical-align: middle;\n",
              "    }\n",
              "\n",
              "    .dataframe tbody tr th {\n",
              "        vertical-align: top;\n",
              "    }\n",
              "\n",
              "    .dataframe thead th {\n",
              "        text-align: right;\n",
              "    }\n",
              "</style>\n",
              "<table border=\"1\" class=\"dataframe\">\n",
              "  <thead>\n",
              "    <tr style=\"text-align: right;\">\n",
              "      <th></th>\n",
              "      <th>tweet_content</th>\n",
              "      <th>Harassment</th>\n",
              "      <th>IndirectH</th>\n",
              "      <th>PhysicalH</th>\n",
              "      <th>SexualH</th>\n",
              "    </tr>\n",
              "  </thead>\n",
              "  <tbody>\n",
              "    <tr>\n",
              "      <th>420</th>\n",
              "      <td>naked girls fingering eachother beautiful girl...</td>\n",
              "      <td>1.0</td>\n",
              "      <td>0.0</td>\n",
              "      <td>1.0</td>\n",
              "      <td>0.0</td>\n",
              "    </tr>\n",
              "    <tr>\n",
              "      <th>421</th>\n",
              "      <td>naked girls vigina sexy swedish men pics</td>\n",
              "      <td>1.0</td>\n",
              "      <td>0.0</td>\n",
              "      <td>1.0</td>\n",
              "      <td>0.0</td>\n",
              "    </tr>\n",
              "    <tr>\n",
              "      <th>422</th>\n",
              "      <td>naked pillow fights nude girls in the farm</td>\n",
              "      <td>0.0</td>\n",
              "      <td>0.0</td>\n",
              "      <td>0.0</td>\n",
              "      <td>0.0</td>\n",
              "    </tr>\n",
              "    <tr>\n",
              "      <th>423</th>\n",
              "      <td>nanuqsaurus was a tyrannosaur from the late cr...</td>\n",
              "      <td>0.0</td>\n",
              "      <td>0.0</td>\n",
              "      <td>0.0</td>\n",
              "      <td>0.0</td>\n",
              "    </tr>\n",
              "    <tr>\n",
              "      <th>424</th>\n",
              "      <td>nasa commanded voyager to fire its thrusters f...</td>\n",
              "      <td>1.0</td>\n",
              "      <td>0.0</td>\n",
              "      <td>1.0</td>\n",
              "      <td>0.0</td>\n",
              "    </tr>\n",
              "    <tr>\n",
              "      <th>425</th>\n",
              "      <td>nature at its best in troms norway by tommy si...</td>\n",
              "      <td>0.0</td>\n",
              "      <td>0.0</td>\n",
              "      <td>0.0</td>\n",
              "      <td>0.0</td>\n",
              "    </tr>\n",
              "    <tr>\n",
              "      <th>426</th>\n",
              "      <td>nawww im the last person to criticize other pp...</td>\n",
              "      <td>0.0</td>\n",
              "      <td>0.0</td>\n",
              "      <td>0.0</td>\n",
              "      <td>0.0</td>\n",
              "    </tr>\n",
              "    <tr>\n",
              "      <th>427</th>\n",
              "      <td>nba young boy has a shitty ass personality his...</td>\n",
              "      <td>1.0</td>\n",
              "      <td>0.0</td>\n",
              "      <td>1.0</td>\n",
              "      <td>0.0</td>\n",
              "    </tr>\n",
              "    <tr>\n",
              "      <th>428</th>\n",
              "      <td>nba youngboy beat his gf ass blacked her eye a...</td>\n",
              "      <td>1.0</td>\n",
              "      <td>0.0</td>\n",
              "      <td>0.0</td>\n",
              "      <td>1.0</td>\n",
              "    </tr>\n",
              "    <tr>\n",
              "      <th>429</th>\n",
              "      <td>need a bitch who know algebra</td>\n",
              "      <td>1.0</td>\n",
              "      <td>0.0</td>\n",
              "      <td>0.0</td>\n",
              "      <td>1.0</td>\n",
              "    </tr>\n",
              "    <tr>\n",
              "      <th>430</th>\n",
              "      <td>neutral sex wet girls naked fucked while lap d...</td>\n",
              "      <td>1.0</td>\n",
              "      <td>0.0</td>\n",
              "      <td>0.0</td>\n",
              "      <td>1.0</td>\n",
              "    </tr>\n",
              "  </tbody>\n",
              "</table>\n",
              "</div>"
            ],
            "text/plain": [
              "                                         tweet_content  Harassment  IndirectH  \\\n",
              "420  naked girls fingering eachother beautiful girl...         1.0        0.0   \n",
              "421           naked girls vigina sexy swedish men pics         1.0        0.0   \n",
              "422         naked pillow fights nude girls in the farm         0.0        0.0   \n",
              "423  nanuqsaurus was a tyrannosaur from the late cr...         0.0        0.0   \n",
              "424  nasa commanded voyager to fire its thrusters f...         1.0        0.0   \n",
              "425  nature at its best in troms norway by tommy si...         0.0        0.0   \n",
              "426  nawww im the last person to criticize other pp...         0.0        0.0   \n",
              "427  nba young boy has a shitty ass personality his...         1.0        0.0   \n",
              "428  nba youngboy beat his gf ass blacked her eye a...         1.0        0.0   \n",
              "429                      need a bitch who know algebra         1.0        0.0   \n",
              "430  neutral sex wet girls naked fucked while lap d...         1.0        0.0   \n",
              "\n",
              "     PhysicalH  SexualH  \n",
              "420        1.0      0.0  \n",
              "421        1.0      0.0  \n",
              "422        0.0      0.0  \n",
              "423        0.0      0.0  \n",
              "424        1.0      0.0  \n",
              "425        0.0      0.0  \n",
              "426        0.0      0.0  \n",
              "427        1.0      0.0  \n",
              "428        0.0      1.0  \n",
              "429        0.0      1.0  \n",
              "430        0.0      1.0  "
            ]
          },
          "metadata": {},
          "execution_count": 26
        }
      ],
      "metadata": {
        "trusted": true,
        "colab": {
          "base_uri": "https://localhost:8080/",
          "height": 390
        },
        "id": "RJZXg2grOIpI",
        "outputId": "278af293-03c2-4a85-cb5c-0e72458ae2f7"
      }
    },
    {
      "cell_type": "code",
      "execution_count": 27,
      "source": [
        "model.save('./model.h5')"
      ],
      "outputs": [],
      "metadata": {
        "trusted": true,
        "id": "0ms6A5PXOIpJ"
      }
    },
    {
      "cell_type": "code",
      "execution_count": 28,
      "source": [
        "tf.to_csv('./testset-competition-result.csv')"
      ],
      "outputs": [],
      "metadata": {
        "trusted": true,
        "id": "s77n42i5OIpK"
      }
    },
    {
      "cell_type": "code",
      "execution_count": 29,
      "source": [
        "from keras.utils import plot_model"
      ],
      "outputs": [],
      "metadata": {
        "trusted": true,
        "id": "IhTphy_oOIpK"
      }
    },
    {
      "cell_type": "code",
      "execution_count": 30,
      "source": [
        "plot_model(model, to_file='model.png')"
      ],
      "outputs": [
        {
          "output_type": "execute_result",
          "data": {
            "image/png": "[encoded data removed]",
            "text/plain": [
              "<IPython.core.display.Image object>"
            ]
          },
          "metadata": {},
          "execution_count": 30
        }
      ],
      "metadata": {
        "trusted": true,
        "id": "GVmhrx8JOIpK"
      }
    },
    {
      "cell_type": "code",
      "execution_count": null,
      "source": [],
      "outputs": [],
      "metadata": {
        "id": "kyQabjrsOIpL"
      }
    }
  ]
}