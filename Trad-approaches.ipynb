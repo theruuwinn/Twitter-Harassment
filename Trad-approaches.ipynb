{
 "cells": [
  {
   "cell_type": "code",
   "execution_count": 1,
   "source": [
    "import pandas as pd\r\n",
    "import re"
   ],
   "outputs": [],
   "metadata": {}
  },
  {
   "cell_type": "code",
   "execution_count": 2,
   "source": [
    "data =  open(\"./traindata.csv\")\r\n",
    "data = pd.read_csv (data)\r\n",
    "print(data)"
   ],
   "outputs": [
    {
     "output_type": "stream",
     "name": "stdout",
     "text": [
      "      Unnamed: 0                                      tweet_content  \\\n",
      "0              0  pics mexican school girl naked melanie safka f...   \n",
      "1              1  rt shereiqns having curly hair is a gotdamn ch...   \n",
      "2              2   breakingnews 7 unexplained prisoners deaths m...   \n",
      "3              3   girl dirty quarterback latino pokemon young h...   \n",
      "4              4   miliondollameat sexting n ngirl daddy n nme l...   \n",
      "...          ...                                                ...   \n",
      "6369        6369   this beautiful believe already where gone big...   \n",
      "6370        6370   annhkay i understand that but also ask these ...   \n",
      "6371        6371  in 38th with 6 is supergirl season 1 2015 the ...   \n",
      "6372        6372   senfeinstein dianne feinstein until guy n nso...   \n",
      "6373        6373          new free video in friend fucks slut girl    \n",
      "\n",
      "      harassment  indirecth  physicalh  sexualh  \n",
      "0              1          0          0        1  \n",
      "1              0          0          0        0  \n",
      "2              0          0          0        0  \n",
      "3              1          0          0        1  \n",
      "4              1          0          0        1  \n",
      "...          ...        ...        ...      ...  \n",
      "6369           0          0          0        0  \n",
      "6370           0          0          0        0  \n",
      "6371           1          0          0        1  \n",
      "6372           0          0          0        0  \n",
      "6373           1          0          0        1  \n",
      "\n",
      "[6374 rows x 6 columns]\n"
     ]
    }
   ],
   "metadata": {}
  },
  {
   "cell_type": "code",
   "execution_count": 3,
   "source": [
    "len(data)"
   ],
   "outputs": [
    {
     "output_type": "execute_result",
     "data": {
      "text/plain": [
       "6374"
      ]
     },
     "metadata": {},
     "execution_count": 3
    }
   ],
   "metadata": {}
  },
  {
   "cell_type": "code",
   "execution_count": 4,
   "source": [
    "from nltk.corpus import stopwords\r\n",
    "from nltk.stem import PorterStemmer\r\n",
    "\r\n",
    "ps = PorterStemmer()"
   ],
   "outputs": [],
   "metadata": {}
  },
  {
   "cell_type": "code",
   "execution_count": 5,
   "source": [
    "def Preprocessing(text):\r\n",
    "    # stripping quotes at end of text\r\n",
    "    text=text.strip('')\r\n",
    "\r\n",
    "    # removing twitter handles @user\r\n",
    "    text=re.sub(\"@[\\w]*\",\" \",text)\r\n",
    "\r\n",
    "    # removing URLs with the space\r\n",
    "    text = re.sub(r'((www\\.[\\S]+)|(https?://[\\S]+))', ' ', text)\r\n",
    "\r\n",
    "    # stripping space, \" and ' from text\r\n",
    "    text = text.strip(' \"\\'')\r\n",
    "\r\n",
    "    # removing repeated letters of string such as yessss to yes \r\n",
    "    text=re.sub(r'(.)\\1{3,}', r'\\1', text)\r\n",
    "\r\n",
    "    # removing the special characters\r\n",
    "    text = re.sub('[^A-Za-z]', ' ', text)\r\n",
    "\r\n",
    "    # replacing two or more dots with space\r\n",
    "    text = re.sub(\"\\\\.{2,}\",\" \",text)\r\n",
    "\r\n",
    "    # converting all text into small letters and storing them as words for further processing\r\n",
    "    text_list = text.lower().split()\r\n",
    "\r\n",
    "    # stemming the words (removing prefix and postfix) using Porter Stemming algorithm..\r\n",
    "    text_list = [ps.stem(word) for word in text_list]\r\n",
    "    \r\n",
    "    return ' '.join(text_list)"
   ],
   "outputs": [],
   "metadata": {}
  },
  {
   "cell_type": "code",
   "execution_count": 6,
   "source": [
    "data['Preprocessed_data']=data['tweet_content'].apply(Preprocessing)"
   ],
   "outputs": [],
   "metadata": {}
  },
  {
   "cell_type": "code",
   "execution_count": 7,
   "source": [
    "data.head()"
   ],
   "outputs": [
    {
     "output_type": "execute_result",
     "data": {
      "text/html": [
       "<div>\n",
       "<style scoped>\n",
       "    .dataframe tbody tr th:only-of-type {\n",
       "        vertical-align: middle;\n",
       "    }\n",
       "\n",
       "    .dataframe tbody tr th {\n",
       "        vertical-align: top;\n",
       "    }\n",
       "\n",
       "    .dataframe thead th {\n",
       "        text-align: right;\n",
       "    }\n",
       "</style>\n",
       "<table border=\"1\" class=\"dataframe\">\n",
       "  <thead>\n",
       "    <tr style=\"text-align: right;\">\n",
       "      <th></th>\n",
       "      <th>Unnamed: 0</th>\n",
       "      <th>tweet_content</th>\n",
       "      <th>harassment</th>\n",
       "      <th>indirecth</th>\n",
       "      <th>physicalh</th>\n",
       "      <th>sexualh</th>\n",
       "      <th>Preprocessed_data</th>\n",
       "    </tr>\n",
       "  </thead>\n",
       "  <tbody>\n",
       "    <tr>\n",
       "      <th>0</th>\n",
       "      <td>0</td>\n",
       "      <td>pics mexican school girl naked melanie safka f...</td>\n",
       "      <td>1</td>\n",
       "      <td>0</td>\n",
       "      <td>0</td>\n",
       "      <td>1</td>\n",
       "      <td>pic mexican school girl nake melani safka fake...</td>\n",
       "    </tr>\n",
       "    <tr>\n",
       "      <th>1</th>\n",
       "      <td>1</td>\n",
       "      <td>rt shereiqns having curly hair is a gotdamn ch...</td>\n",
       "      <td>0</td>\n",
       "      <td>0</td>\n",
       "      <td>0</td>\n",
       "      <td>0</td>\n",
       "      <td>rt shereiqn have curli hair is a gotdamn chore...</td>\n",
       "    </tr>\n",
       "    <tr>\n",
       "      <th>2</th>\n",
       "      <td>2</td>\n",
       "      <td>breakingnews 7 unexplained prisoners deaths m...</td>\n",
       "      <td>0</td>\n",
       "      <td>0</td>\n",
       "      <td>0</td>\n",
       "      <td>0</td>\n",
       "      <td>breakingnew unexplain prison death murder amp ...</td>\n",
       "    </tr>\n",
       "    <tr>\n",
       "      <th>3</th>\n",
       "      <td>3</td>\n",
       "      <td>girl dirty quarterback latino pokemon young h...</td>\n",
       "      <td>1</td>\n",
       "      <td>0</td>\n",
       "      <td>0</td>\n",
       "      <td>1</td>\n",
       "      <td>girl dirti quarterback latino pokemon young ha...</td>\n",
       "    </tr>\n",
       "    <tr>\n",
       "      <th>4</th>\n",
       "      <td>4</td>\n",
       "      <td>miliondollameat sexting n ngirl daddy n nme l...</td>\n",
       "      <td>1</td>\n",
       "      <td>0</td>\n",
       "      <td>0</td>\n",
       "      <td>1</td>\n",
       "      <td>miliondollameat sext n ngirl daddi n nme liste...</td>\n",
       "    </tr>\n",
       "  </tbody>\n",
       "</table>\n",
       "</div>"
      ],
      "text/plain": [
       "   Unnamed: 0                                      tweet_content  harassment  \\\n",
       "0           0  pics mexican school girl naked melanie safka f...           1   \n",
       "1           1  rt shereiqns having curly hair is a gotdamn ch...           0   \n",
       "2           2   breakingnews 7 unexplained prisoners deaths m...           0   \n",
       "3           3   girl dirty quarterback latino pokemon young h...           1   \n",
       "4           4   miliondollameat sexting n ngirl daddy n nme l...           1   \n",
       "\n",
       "   indirecth  physicalh  sexualh  \\\n",
       "0          0          0        1   \n",
       "1          0          0        0   \n",
       "2          0          0        0   \n",
       "3          0          0        1   \n",
       "4          0          0        1   \n",
       "\n",
       "                                   Preprocessed_data  \n",
       "0  pic mexican school girl nake melani safka fake...  \n",
       "1  rt shereiqn have curli hair is a gotdamn chore...  \n",
       "2  breakingnew unexplain prison death murder amp ...  \n",
       "3  girl dirti quarterback latino pokemon young ha...  \n",
       "4  miliondollameat sext n ngirl daddi n nme liste...  "
      ]
     },
     "metadata": {},
     "execution_count": 7
    }
   ],
   "metadata": {}
  },
  {
   "cell_type": "markdown",
   "source": [
    "# Spliting Data"
   ],
   "metadata": {}
  },
  {
   "cell_type": "code",
   "execution_count": 8,
   "source": [
    "from sklearn.model_selection import train_test_split\r\n",
    "\r\n",
    "train, test = train_test_split(data, test_size=0.20)"
   ],
   "outputs": [],
   "metadata": {}
  },
  {
   "cell_type": "code",
   "execution_count": 9,
   "source": [
    "len(train), len(test)"
   ],
   "outputs": [
    {
     "output_type": "execute_result",
     "data": {
      "text/plain": [
       "(5099, 1275)"
      ]
     },
     "metadata": {},
     "execution_count": 9
    }
   ],
   "metadata": {}
  },
  {
   "cell_type": "markdown",
   "source": [
    "# Vectorization"
   ],
   "metadata": {}
  },
  {
   "cell_type": "code",
   "execution_count": 10,
   "source": [
    "from sklearn.feature_extraction.text import CountVectorizer, TfidfTransformer\r\n",
    "\r\n",
    "count_vectorization = CountVectorizer()\r\n",
    "tfidf_transformation = TfidfTransformer()"
   ],
   "outputs": [],
   "metadata": {}
  },
  {
   "cell_type": "code",
   "execution_count": 11,
   "source": [
    "X_train_count_vector = count_vectorization.fit_transform(train[\"Preprocessed_data\"])\r\n",
    "X_train_tfidf_vector = tfidf_transformation.fit_transform(X_train_count_vector)\r\n",
    "\r\n",
    "X_test_count_vector = count_vectorization.transform(test[\"Preprocessed_data\"])\r\n",
    "X_test_tfidf_vector = tfidf_transformation.transform(X_test_count_vector)\r\n",
    "\r\n",
    "y_train = train['harassment']\r\n",
    "y_test = test['harassment']"
   ],
   "outputs": [],
   "metadata": {}
  },
  {
   "cell_type": "markdown",
   "source": [
    "#Training and Testing Models"
   ],
   "metadata": {}
  },
  {
   "cell_type": "code",
   "execution_count": 12,
   "source": [
    "\r\n",
    "from sklearn.linear_model import SGDClassifier\r\n",
    "from sklearn.naive_bayes import MultinomialNB\r\n",
    "from sklearn.naive_bayes import BernoulliNB\r\n",
    "from sklearn.linear_model import LogisticRegression\r\n",
    "from sklearn.tree import DecisionTreeClassifier\r\n",
    "from sklearn.svm import SVC"
   ],
   "outputs": [],
   "metadata": {}
  },
  {
   "cell_type": "code",
   "execution_count": 13,
   "source": [
    "model_prediction = dict()"
   ],
   "outputs": [],
   "metadata": {}
  },
  {
   "cell_type": "code",
   "execution_count": 14,
   "source": [
    "# SVM - Stochastic Gradient Descent\r\n",
    "model = SGDClassifier(max_iter=1000, tol=1e-3, loss=\"modified_huber\").fit(X_train_tfidf_vector, y_train)\r\n",
    "model_prediction['SVM-SGD'] = model.predict(X_test_tfidf_vector)\r\n",
    "\r\n",
    "# Multinomial Naive Bayes\r\n",
    "model = MultinomialNB().fit(X_train_tfidf_vector, y_train)\r\n",
    "model_prediction['Multinomial'] = model.predict(X_test_tfidf_vector)\r\n",
    "\r\n",
    "# Bernoulli Naive Bayes\r\n",
    "model = BernoulliNB().fit(X_train_tfidf_vector, y_train)\r\n",
    "model_prediction['Bernoulli'] = model.predict(X_test_tfidf_vector)\r\n",
    "\r\n",
    "# Logistic Regression\r\n",
    "model = LogisticRegression(C=1).fit(X_train_tfidf_vector, y_train)\r\n",
    "model_prediction['Logistic'] = model.predict(X_test_tfidf_vector)\r\n",
    "\r\n",
    "# SVM - Support Vector Classifier\r\n",
    "model = SVC(gamma='auto', C=1).fit(X_train_tfidf_vector, y_train)\r\n",
    "model_prediction['SVM'] = model.predict(X_test_tfidf_vector)\r\n",
    "\r\n",
    "# Decision Trees\r\n",
    "model = DecisionTreeClassifier().fit(X_train_tfidf_vector, y_train)\r\n",
    "model_prediction['Decision Tree'] = model.predict(X_test_tfidf_vector)"
   ],
   "outputs": [],
   "metadata": {}
  },
  {
   "cell_type": "code",
   "execution_count": 15,
   "source": [
    "from sklearn import metrics\r\n",
    "from sklearn.metrics import accuracy_score, f1_score\r\n",
    "from sklearn.metrics import classification_report, confusion_matrix"
   ],
   "outputs": [],
   "metadata": {}
  },
  {
   "cell_type": "code",
   "execution_count": 16,
   "source": [
    "\r\n",
    "print(\"ACCURACY SCORE:\\n\")\r\n",
    "for model_name in model_prediction.keys():\r\n",
    "  print(model_name, ': ', round(accuracy_score(y_test, model_prediction[model_name])*100, 2))"
   ],
   "outputs": [
    {
     "output_type": "stream",
     "name": "stdout",
     "text": [
      "ACCURACY SCORE:\n",
      "\n",
      "SVM-SGD :  86.82\n",
      "Multinomial :  78.9\n",
      "Bernoulli :  84.0\n",
      "Logistic :  87.22\n",
      "SVM :  57.8\n",
      "Decision Tree :  84.55\n"
     ]
    }
   ],
   "metadata": {}
  },
  {
   "cell_type": "code",
   "execution_count": 17,
   "source": [
    "print(\"F1 SCORE:\\n\")\r\n",
    "for model_name in model_prediction.keys():\r\n",
    "  print(model_name, ': ', round(f1_score(y_test, model_prediction[model_name]), 2))"
   ],
   "outputs": [
    {
     "output_type": "stream",
     "name": "stdout",
     "text": [
      "F1 SCORE:\n",
      "\n",
      "SVM-SGD :  0.85\n",
      "Multinomial :  0.73\n",
      "Bernoulli :  0.81\n",
      "Logistic :  0.85\n",
      "SVM :  0.0\n",
      "Decision Tree :  0.82\n"
     ]
    }
   ],
   "metadata": {}
  },
  {
   "cell_type": "markdown",
   "source": [
    "# Model Evaluation"
   ],
   "metadata": {}
  },
  {
   "cell_type": "code",
   "execution_count": 18,
   "source": [
    "import numpy as np\r\n",
    "import matplotlib.pyplot as plt\r\n",
    "from sklearn.metrics import roc_curve, auc\r\n",
    "\r\n",
    "count = 0\r\n",
    "colors = ['b', 'g', 'y', 'm', 'k', 'c']\r\n",
    "for model, prediction in model_prediction.items():\r\n",
    "    fpr, tpr, threshold = roc_curve(y_test, prediction)\r\n",
    "    roc_auc = auc(fpr, tpr)\r\n",
    "    plt.plot(fpr, tpr, colors[count], label='%s: AUC %0.2f'% (model, roc_auc))\r\n",
    "    count += 1\r\n",
    "\r\n",
    "plt.title('ROC-AUC Comparision')\r\n",
    "plt.legend(loc='lower right')\r\n",
    "plt.plot([0,1],[0,1],'r--')\r\n",
    "\r\n",
    "plt.ylabel('True Positive Rate')\r\n",
    "plt.xlabel('False Positive Rate')\r\n",
    "plt.show()"
   ],
   "outputs": [
    {
     "output_type": "display_data",
     "data": {
      "image/png": "[encoded data removed]",
      "text/plain": [
       "<Figure size 432x288 with 1 Axes>"
      ]
     },
     "metadata": {
      "needs_background": "light"
     }
    }
   ],
   "metadata": {}
  },
  {
   "cell_type": "code",
   "execution_count": 19,
   "source": [
    "from sklearn.model_selection import GridSearchCV\r\n",
    "\r\n",
    "param_grid = {'C': [0.001, 0.01, 0.1, 1, 10]}\r\n",
    "grid = GridSearchCV(LogisticRegression(), param_grid)\r\n",
    "grid.fit(X_train_tfidf_vector, y_train)"
   ],
   "outputs": [
    {
     "output_type": "execute_result",
     "data": {
      "text/plain": [
       "GridSearchCV(estimator=LogisticRegression(),\n",
       "             param_grid={'C': [0.001, 0.01, 0.1, 1, 10]})"
      ]
     },
     "metadata": {},
     "execution_count": 19
    }
   ],
   "metadata": {}
  },
  {
   "cell_type": "code",
   "execution_count": 20,
   "source": [
    "print(\"Best cross-validation score: {:.2f}\".format(grid.best_score_))\r\n",
    "print(\"Best parameter: \", grid.best_params_)\r\n",
    "print(\"Best estimator: \", grid.best_estimator_)"
   ],
   "outputs": [
    {
     "output_type": "stream",
     "name": "stdout",
     "text": [
      "Best cross-validation score: 0.87\n",
      "Best parameter:  {'C': 10}\n",
      "Best estimator:  LogisticRegression(C=10)\n"
     ]
    }
   ],
   "metadata": {}
  },
  {
   "cell_type": "code",
   "execution_count": 21,
   "source": [
    "# Confusion Matrix for Logistic Regression\r\n",
    "import seaborn as sns\r\n",
    "\r\n",
    "conf_mat = confusion_matrix(y_test, model_prediction['Logistic'])\r\n",
    "axes = [\"Negative\", \"Positive\"]\r\n",
    "confusion_matrix_df = pd.DataFrame(conf_mat, axes, axes, dtype=int)\r\n",
    "sns.heatmap(confusion_matrix_df, annot=True, fmt=\"d\")\r\n",
    "plt.title(\"Confustion Matrix for Logistic Regression\")\r\n",
    "plt.show()"
   ],
   "outputs": [
    {
     "output_type": "display_data",
     "data": {
      "image/png": "[encoded data removed]",
      "text/plain": [
       "<Figure size 432x288 with 2 Axes>"
      ]
     },
     "metadata": {
      "needs_background": "light"
     }
    }
   ],
   "metadata": {}
  },
  {
   "cell_type": "code",
   "execution_count": null,
   "source": [],
   "outputs": [],
   "metadata": {}
  }
 ],
 "metadata": {
  "kernelspec": {
   "name": "python3",
   "display_name": "Python 3.7.7 64-bit ('math_env': conda)"
  },
  "language_info": {
   "codemirror_mode": {
    "name": "ipython",
    "version": 3
   },
   "file_extension": ".py",
   "mimetype": "text/x-python",
   "name": "python",
   "nbconvert_exporter": "python",
   "pygments_lexer": "ipython3",
   "version": "3.7.7"
  },
  "interpreter": {
   "hash": "2747b4bd68193098216e7b136c43d897392c75025fccbd04c13c707cb8fecbe3"
  }
 },
 "nbformat": 4,
 "nbformat_minor": 4
}